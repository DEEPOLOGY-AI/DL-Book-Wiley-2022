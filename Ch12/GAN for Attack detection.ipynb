{
 "cells": [
  {
   "cell_type": "code",
   "execution_count": 2,
   "metadata": {
    "_cell_guid": "79c7e3d0-c299-4dcb-8224-4455121ee9b0",
    "_uuid": "d629ff2d2480ee46fbb7e2d37f6b5fab8052498a",
    "tags": []
   },
   "outputs": [],
   "source": [
    "# importing libraries\n",
    "%matplotlib inline\n",
    "import numpy as np\n",
    "import pandas as pd\n",
    "import seaborn as sns\n",
    "import matplotlib.pyplot as plt\n",
    "from sklearn.metrics import classification_report, confusion_matrix\n",
    "\n",
    "import tensorflow\n",
    "import tensorflow as tf\n",
    "import keras\n",
    "from tensorflow.keras.layers import Dense , BatchNormalization , LeakyReLU , Dropout\n",
    "from tensorflow.keras.models import Sequential\n",
    "from tensorflow.keras.losses import BinaryCrossentropy\n",
    "from tensorflow.keras.optimizers import Adam\n",
    "from tensorflow.keras import layers\n",
    "\n",
    "\n",
    "import time\n",
    "from sklearn.model_selection import train_test_split\n",
    "from sklearn.preprocessing import LabelEncoder\n",
    "from sklearn.metrics import average_precision_score, accuracy_score ,recall_score, f1_score\n"
   ]
  },
  {
   "cell_type": "code",
   "execution_count": 3,
   "metadata": {
    "tags": []
   },
   "outputs": [
    {
     "name": "stderr",
     "output_type": "stream",
     "text": [
      "C:\\Users\\MMM\\AppData\\Local\\Temp\\ipykernel_94008\\1119345328.py:3: DeprecationWarning: `np.object` is a deprecated alias for the builtin `object`. To silence this warning, use `object` by itself. Doing this will not modify any behavior and is safe. \n",
      "Deprecated in NumPy 1.20; for more details and guidance: https://numpy.org/devdocs/release/1.20.0-notes.html#deprecations\n",
      "  \"protocol_type\": np.object,\n",
      "C:\\Users\\MMM\\AppData\\Local\\Temp\\ipykernel_94008\\1119345328.py:4: DeprecationWarning: `np.object` is a deprecated alias for the builtin `object`. To silence this warning, use `object` by itself. Doing this will not modify any behavior and is safe. \n",
      "Deprecated in NumPy 1.20; for more details and guidance: https://numpy.org/devdocs/release/1.20.0-notes.html#deprecations\n",
      "  \"service\": np.object,\n",
      "C:\\Users\\MMM\\AppData\\Local\\Temp\\ipykernel_94008\\1119345328.py:5: DeprecationWarning: `np.object` is a deprecated alias for the builtin `object`. To silence this warning, use `object` by itself. Doing this will not modify any behavior and is safe. \n",
      "Deprecated in NumPy 1.20; for more details and guidance: https://numpy.org/devdocs/release/1.20.0-notes.html#deprecations\n",
      "  \"flag\": np.object,\n",
      "C:\\Users\\MMM\\AppData\\Local\\Temp\\ipykernel_94008\\1119345328.py:43: DeprecationWarning: `np.object` is a deprecated alias for the builtin `object`. To silence this warning, use `object` by itself. Doing this will not modify any behavior and is safe. \n",
      "Deprecated in NumPy 1.20; for more details and guidance: https://numpy.org/devdocs/release/1.20.0-notes.html#deprecations\n",
      "  \"label\": np.object\n"
     ]
    }
   ],
   "source": [
    "dtypes = {\n",
    "\"duration\": np.int8,\n",
    "\"protocol_type\": np.object,\n",
    "\"service\": np.object,\n",
    "\"flag\": np.object,\n",
    "\"src_bytes\":  np.int8,\n",
    "\"dst_bytes\":  np.int8,\n",
    "\"land\": np.int8,\n",
    "\"wrong_fragment\":  np.int8,\n",
    "\"urgent\": np.int8,\n",
    "\"hot\": np.int8,\n",
    "\"m_failed_logins\":  np.int8,\n",
    "\"logged_in\":  np.int8,\n",
    "\"num_compromised\":  np.int8,\n",
    "\"root_shell\":  np.int8,\n",
    "\"su_attempted\":  np.int8,\n",
    "\"num_root\": np.int8,\n",
    "\"num_file_creations\":  np.int8,\n",
    "\"num_shells\":  np.int8,\n",
    "\"num_access_files\":  np.int8,\n",
    "\"num_outbound_cmds\":  np.int8,\n",
    "\"is_host_login\":  np.int8,\n",
    "\"is_guest_login\":  np.int8,\n",
    "\"count\": np.int8,\n",
    "\"srv_count\":  np.int8,\n",
    "\"serror_rate\": np.float16,\n",
    "\"srv_serror_rate\": np.float16,\n",
    "\"rerror_rate\": np.float16,\n",
    "\"srv_rerror_rate\": np.float16,\n",
    "\"same_srv_rate\": np.float16,\n",
    "\"diff_srv_rate\": np.float16,\n",
    "\"srv_diff_host_rate\": np.float16,\n",
    "\"dst_host_count\":  np.int8,\n",
    "\"dst_host_srv_count\":  np.int8,\n",
    "\"dst_host_same_srv_rate\": np.float16,\n",
    "\"dst_host_diff_srv_rate\": np.float16,\n",
    "\"dst_host_same_src_port_rate\": np.float16,\n",
    "\"dst_host_srv_diff_host_rate\": np.float16,\n",
    "\"dst_host_serror_rate\": np.float16,\n",
    "\"dst_host_srv_serror_rate\": np.float16,\n",
    "\"dst_host_rerror_rate\": np.float16,\n",
    "\"dst_host_srv_rerror_rate\": np.float16,\n",
    "\"label\": np.object\n",
    "}\n",
    "\n",
    "columns = [\"duration\",\"protocol_type\",\"service\",\"flag\",\"src_bytes\",\"dst_bytes\",\"land\",\"wrong_fragment\",\"urgent\",\"hot\",\"m_failed_logins\",\n",
    "\"logged_in\", \"num_compromised\",\"root_shell\",\"su_attempted\",\"num_root\",\"num_file_creations\",\"num_shells\",\"num_access_files\",\n",
    "\"num_outbound_cmds\",\"is_host_login\",\"is_guest_login\",\"count\",\"srv_count\",\"serror_rate\",\"srv_serror_rate\",\"rerror_rate\",\"srv_rerror_rate\",\n",
    "\"same_srv_rate\",\"diff_srv_rate\",\"srv_diff_host_rate\",\"dst_host_count\",\"dst_host_srv_count\",\"dst_host_same_srv_rate\",\"dst_host_diff_srv_rate\",\n",
    "\"dst_host_same_src_port_rate\", \"dst_host_srv_diff_host_rate\",\"dst_host_serror_rate\",\"dst_host_srv_serror_rate\",\"dst_host_rerror_rate\",\n",
    "\"dst_host_srv_rerror_rate\",\"label\"]\n",
    "\n",
    "data = pd.read_csv(\"kddcup.data_10_percent_corrected\", sep=\",\", names=columns, dtype=dtypes, index_col=None)"
   ]
  },
  {
   "cell_type": "code",
   "execution_count": 4,
   "metadata": {
    "tags": []
   },
   "outputs": [
    {
     "data": {
      "text/plain": [
       "smurf.              280790\n",
       "neptune.            107201\n",
       "normal.              97278\n",
       "back.                 2203\n",
       "satan.                1589\n",
       "ipsweep.              1247\n",
       "portsweep.            1040\n",
       "warezclient.          1020\n",
       "teardrop.              979\n",
       "pod.                   264\n",
       "nmap.                  231\n",
       "guess_passwd.           53\n",
       "buffer_overflow.        30\n",
       "land.                   21\n",
       "warezmaster.            20\n",
       "imap.                   12\n",
       "rootkit.                10\n",
       "loadmodule.              9\n",
       "ftp_write.               8\n",
       "multihop.                7\n",
       "phf.                     4\n",
       "perl.                    3\n",
       "spy.                     2\n",
       "Name: label, dtype: int64"
      ]
     },
     "execution_count": 4,
     "metadata": {},
     "output_type": "execute_result"
    }
   ],
   "source": [
    "data.label.value_counts()"
   ]
  },
  {
   "cell_type": "code",
   "execution_count": 5,
   "metadata": {
    "tags": []
   },
   "outputs": [],
   "source": [
    "#Feature Selection\n",
    "important_feature=['dst_bytes',\n",
    " 'logged_in',\n",
    " 'count',\n",
    " 'srv_count',\n",
    " 'dst_host_count',\n",
    " 'dst_host_srv_count',\n",
    " 'dst_host_same_srv_rate',\n",
    " 'dst_host_same_src_port_rate','label']"
   ]
  },
  {
   "cell_type": "code",
   "execution_count": 6,
   "metadata": {
    "tags": []
   },
   "outputs": [],
   "source": [
    "# 0 for normal data and 1 for abnormalities\n",
    "data.label=data.label.apply(lambda x: 0 if x == 'normal.' else 1)"
   ]
  },
  {
   "cell_type": "code",
   "execution_count": 7,
   "metadata": {
    "tags": []
   },
   "outputs": [],
   "source": [
    "data=data[important_feature]"
   ]
  },
  {
   "cell_type": "code",
   "execution_count": 8,
   "metadata": {
    "tags": []
   },
   "outputs": [
    {
     "name": "stderr",
     "output_type": "stream",
     "text": [
      "C:\\Users\\MMM\\AppData\\Local\\Temp\\ipykernel_94008\\492341383.py:3: DeprecationWarning: `np.object` is a deprecated alias for the builtin `object`. To silence this warning, use `object` by itself. Doing this will not modify any behavior and is safe. \n",
      "Deprecated in NumPy 1.20; for more details and guidance: https://numpy.org/devdocs/release/1.20.0-notes.html#deprecations\n",
      "  if data[column].dtype == np.object:\n"
     ]
    }
   ],
   "source": [
    "#label encoding \n",
    "for column in data.columns:\n",
    "    if data[column].dtype == np.object:\n",
    "        encoded = LabelEncoder()\n",
    "        \n",
    "        encoded.fit(data[column])\n",
    "        data[column] = encoded.transform(data[column])"
   ]
  },
  {
   "cell_type": "code",
   "execution_count": 10,
   "metadata": {
    "tags": []
   },
   "outputs": [],
   "source": [
    "#randomly sample 1000 data point for training\n",
    "df_train=data[data.label==0].sample(1000)"
   ]
  },
  {
   "cell_type": "code",
   "execution_count": 11,
   "metadata": {
    "tags": []
   },
   "outputs": [],
   "source": [
    "#remove the item sampled from our dataset\n",
    "index_list=df_train.index\n",
    "data=data.drop(index_list)"
   ]
  },
  {
   "cell_type": "code",
   "execution_count": 12,
   "metadata": {
    "tags": []
   },
   "outputs": [],
   "source": [
    "#drop the label columns\n",
    "df_train=df_train.drop('label',axis=1)"
   ]
  },
  {
   "cell_type": "code",
   "execution_count": 13,
   "metadata": {
    "tags": []
   },
   "outputs": [
    {
     "data": {
      "text/plain": [
       "(1000, 8)"
      ]
     },
     "execution_count": 13,
     "metadata": {},
     "output_type": "execute_result"
    }
   ],
   "source": [
    "df_train.shape"
   ]
  },
  {
   "cell_type": "code",
   "execution_count": 14,
   "metadata": {
    "tags": []
   },
   "outputs": [],
   "source": [
    "def build_generator():\n",
    "    model = Sequential()\n",
    "    model.add(Dense(16, use_bias=False, input_shape=(100,)))\n",
    "    model.add(BatchNormalization())\n",
    "    model.add(LeakyReLU())\n",
    "\n",
    "    model.add(Dense(16))\n",
    "    assert model.output_shape == (None,16 ) # Note: None is the batch size\n",
    "    \n",
    "    model.add(Dense(32))\n",
    "    model.add(BatchNormalization())\n",
    "    model.add(LeakyReLU())\n",
    "    \n",
    "    model.add(Dense(32))\n",
    "    model.add(BatchNormalization())\n",
    "    model.add(LeakyReLU())\n",
    "    \n",
    "    model.add(Dense(8 , activation=\"softmax\"))\n",
    "    assert model.output_shape == (None,8 )\n",
    "\n",
    "    return model"
   ]
  },
  {
   "cell_type": "code",
   "execution_count": 15,
   "metadata": {
    "tags": []
   },
   "outputs": [],
   "source": [
    "def build_discriminator():\n",
    "    model = tensorflow.keras.Sequential()\n",
    "    model.add(Dense(16, use_bias=False,input_shape=[1,8]))\n",
    "   \n",
    "    model.add(LeakyReLU())\n",
    "    model.add(Dropout(0.3))\n",
    "\n",
    "    model.add(Dense(32, use_bias=True))\n",
    "    model.add(LeakyReLU())\n",
    "    model.add(Dropout(0.3))\n",
    "    model.add(Dense(1 , activation='sigmoid'))\n",
    "\n",
    "    return model"
   ]
  },
  {
   "cell_type": "code",
   "execution_count": 16,
   "metadata": {
    "tags": []
   },
   "outputs": [],
   "source": [
    "generator=build_generator()\n",
    "discriminator=build_discriminator()"
   ]
  },
  {
   "cell_type": "code",
   "execution_count": 17,
   "metadata": {
    "tags": []
   },
   "outputs": [],
   "source": [
    "cross_entropy = BinaryCrossentropy(from_logits=True)"
   ]
  },
  {
   "cell_type": "code",
   "execution_count": 18,
   "metadata": {
    "tags": []
   },
   "outputs": [],
   "source": [
    "def discriminator_loss(real_output, fake_output):\n",
    "    real_loss = cross_entropy(tf.ones_like(real_output), real_output)\n",
    "    fake_loss = cross_entropy(tf.zeros_like(fake_output), fake_output)\n",
    "    total_loss = real_loss + fake_loss\n",
    "    return total_loss"
   ]
  },
  {
   "cell_type": "code",
   "execution_count": 19,
   "metadata": {
    "tags": []
   },
   "outputs": [
    {
     "name": "stdout",
     "output_type": "stream",
     "text": [
      "Loss:  -0.0\n"
     ]
    }
   ],
   "source": [
    "bce = BinaryCrossentropy()\n",
    "loss = bce([1., 1., 1., 1.], [1., 1., 1., 1.])\n",
    "print('Loss: ', loss.numpy())  # Loss: 11.522857"
   ]
  },
  {
   "cell_type": "code",
   "execution_count": 20,
   "metadata": {
    "tags": []
   },
   "outputs": [],
   "source": [
    "def generator_loss(fake_output):\n",
    "    return cross_entropy(tf.ones_like(fake_output), fake_output)"
   ]
  },
  {
   "cell_type": "code",
   "execution_count": 21,
   "metadata": {
    "tags": []
   },
   "outputs": [],
   "source": [
    "generator_optimizer = Adam(1e-4)\n",
    "discriminator_optimizer = Adam(1e-4)"
   ]
  },
  {
   "cell_type": "code",
   "execution_count": 22,
   "metadata": {
    "tags": []
   },
   "outputs": [],
   "source": [
    "EPOCHS = 50\n",
    "noise_dim = 100\n",
    "#num_examples_to_generate = 16\n",
    "BATCH_SIZE = 64\n",
    "\n"
   ]
  },
  {
   "cell_type": "code",
   "execution_count": 23,
   "metadata": {
    "tags": []
   },
   "outputs": [],
   "source": [
    "@tf.function\n",
    "def train_step(inputs):\n",
    "    noise = tf.random.normal([BATCH_SIZE, noise_dim])\n",
    "    inputs=tf.reshape(inputs,(1,8))\n",
    "    with tf.GradientTape() as gen_tape, tf.GradientTape() as disc_tape:\n",
    "        generated_inputs = generator(noise)\n",
    "\n",
    "        real_output = discriminator(inputs)\n",
    "        fake_output = discriminator(generated_inputs)\n",
    "\n",
    "        gen_loss = generator_loss(fake_output)\n",
    "        disc_loss = discriminator_loss(real_output, fake_output)\n",
    "     \n",
    "    gradients_of_generator = gen_tape.gradient(gen_loss, generator.trainable_variables)\n",
    "    gradients_of_discriminator = disc_tape.gradient(disc_loss, discriminator.trainable_variables)\n",
    "\n",
    "    generator_optimizer.apply_gradients(zip(gradients_of_generator, generator.trainable_variables))\n",
    "    discriminator_optimizer.apply_gradients(zip(gradients_of_discriminator, discriminator.trainable_variables))\n",
    "    \n",
    "    g = tf.cast(gen_loss, tf.float32)\n",
    "    d = tf.cast(disc_loss, tf.float32)\n",
    "    return (g,d)"
   ]
  },
  {
   "cell_type": "code",
   "execution_count": 26,
   "metadata": {
    "tags": []
   },
   "outputs": [],
   "source": [
    "history=dict()\n",
    "history['gen']=[]\n",
    "history['dis']=[]\n",
    "def train(dataset, epochs):\n",
    "    for epoch in range(epochs):\n",
    "        start = time.time()\n",
    "\n",
    "        for batch in dataset:\n",
    "            b = tf.cast(batch, tf.float32)\n",
    "            gen_loss,dis_loss= train_step(b)\n",
    "            history['gen'].append(gen_loss)\n",
    "            history['dis'].append(dis_loss)\n",
    "        print ('Time for epoch {} is {} sec '.format(epoch + 1, time.time()-start))"
   ]
  },
  {
   "cell_type": "code",
   "execution_count": 27,
   "metadata": {
    "tags": []
   },
   "outputs": [
    {
     "name": "stdout",
     "output_type": "stream",
     "text": [
      "Time for epoch 1 is 13.265489101409912 sec \n",
      "Time for epoch 2 is 13.483121156692505 sec \n",
      "Time for epoch 3 is 13.254946231842041 sec \n",
      "Time for epoch 4 is 11.239826679229736 sec \n",
      "Time for epoch 5 is 11.57972764968872 sec \n",
      "Time for epoch 6 is 12.391696691513062 sec \n",
      "Time for epoch 7 is 11.963348388671875 sec \n",
      "Time for epoch 8 is 12.347578525543213 sec \n",
      "Time for epoch 9 is 11.006589412689209 sec \n",
      "Time for epoch 10 is 10.657093048095703 sec \n",
      "Time for epoch 11 is 11.009340763092041 sec \n",
      "Time for epoch 12 is 11.30051875114441 sec \n",
      "Time for epoch 13 is 12.016072511672974 sec \n",
      "Time for epoch 14 is 11.645524978637695 sec \n",
      "Time for epoch 15 is 12.392716407775879 sec \n",
      "Time for epoch 16 is 12.955224990844727 sec \n",
      "Time for epoch 17 is 12.64058232307434 sec \n",
      "Time for epoch 18 is 12.562633752822876 sec \n",
      "Time for epoch 19 is 13.657177686691284 sec \n",
      "Time for epoch 20 is 13.694513320922852 sec \n",
      "Time for epoch 21 is 13.653598308563232 sec \n",
      "Time for epoch 22 is 13.830554962158203 sec \n",
      "Time for epoch 23 is 13.766052961349487 sec \n",
      "Time for epoch 24 is 13.33684515953064 sec \n",
      "Time for epoch 25 is 12.551671266555786 sec \n",
      "Time for epoch 26 is 13.416772603988647 sec \n",
      "Time for epoch 27 is 13.573115110397339 sec \n",
      "Time for epoch 28 is 13.778029441833496 sec \n",
      "Time for epoch 29 is 13.78470492362976 sec \n",
      "Time for epoch 30 is 14.031554460525513 sec \n",
      "Time for epoch 31 is 13.931639671325684 sec \n",
      "Time for epoch 32 is 12.491905927658081 sec \n",
      "Time for epoch 33 is 12.41020154953003 sec \n",
      "Time for epoch 34 is 12.025560855865479 sec \n",
      "Time for epoch 35 is 11.304722547531128 sec \n",
      "Time for epoch 36 is 11.859050035476685 sec \n",
      "Time for epoch 37 is 11.366149425506592 sec \n",
      "Time for epoch 38 is 13.476397514343262 sec \n",
      "Time for epoch 39 is 13.207876920700073 sec \n",
      "Time for epoch 40 is 13.737365007400513 sec \n",
      "Time for epoch 41 is 13.570772171020508 sec \n",
      "Time for epoch 42 is 11.238829612731934 sec \n",
      "Time for epoch 43 is 10.724522352218628 sec \n",
      "Time for epoch 44 is 11.362821102142334 sec \n",
      "Time for epoch 45 is 11.112410545349121 sec \n",
      "Time for epoch 46 is 11.622601985931396 sec \n",
      "Time for epoch 47 is 13.09181547164917 sec \n",
      "Time for epoch 48 is 13.404253244400024 sec \n",
      "Time for epoch 49 is 12.786847591400146 sec \n",
      "Time for epoch 50 is 12.866786003112793 sec \n"
     ]
    }
   ],
   "source": [
    "x_train=df_train.values\n",
    "train(x_train,EPOCHS) "
   ]
  },
  {
   "cell_type": "code",
   "execution_count": 28,
   "metadata": {
    "tags": []
   },
   "outputs": [
    {
     "data": {
      "text/plain": [
       "[<matplotlib.lines.Line2D at 0x237de624fd0>]"
      ]
     },
     "execution_count": 28,
     "metadata": {},
     "output_type": "execute_result"
    },
    {
     "data": {
      "image/png": "[encoded data removed]",
      "text/plain": [
       "<Figure size 432x288 with 1 Axes>"
      ]
     },
     "metadata": {
      "needs_background": "light"
     },
     "output_type": "display_data"
    }
   ],
   "source": [
    "plt.plot(history['gen'])"
   ]
  },
  {
   "cell_type": "code",
   "execution_count": 29,
   "metadata": {
    "tags": []
   },
   "outputs": [
    {
     "data": {
      "text/plain": [
       "[<matplotlib.lines.Line2D at 0x237de5c7250>]"
      ]
     },
     "execution_count": 29,
     "metadata": {},
     "output_type": "execute_result"
    },
    {
     "data": {
      "image/png": "[encoded data removed]",
      "text/plain": [
       "<Figure size 432x288 with 1 Axes>"
      ]
     },
     "metadata": {
      "needs_background": "light"
     },
     "output_type": "display_data"
    }
   ],
   "source": [
    "plt.plot(history['dis'])"
   ]
  },
  {
   "cell_type": "code",
   "execution_count": 30,
   "metadata": {
    "tags": []
   },
   "outputs": [],
   "source": [
    "y_test=data.label\n",
    "x_test=data.drop('label',axis=1).values.reshape(-1,1,8)"
   ]
  },
  {
   "cell_type": "code",
   "execution_count": 31,
   "metadata": {
    "tags": []
   },
   "outputs": [],
   "source": [
    "y_pred=discriminator.predict(x_test)"
   ]
  },
  {
   "cell_type": "code",
   "execution_count": 29,
   "metadata": {
    "execution": {
     "iopub.execute_input": "2022-09-25T16:45:03.411934Z",
     "iopub.status.busy": "2022-09-25T16:45:03.411447Z",
     "iopub.status.idle": "2022-09-25T16:45:04.325261Z",
     "shell.execute_reply": "2022-09-25T16:45:04.324457Z",
     "shell.execute_reply.started": "2022-09-25T16:45:03.411881Z"
    }
   },
   "outputs": [
    {
     "data": {
      "text/plain": [
       "Text(0, 0.5, 'y_pred')"
      ]
     },
     "execution_count": 29,
     "metadata": {},
     "output_type": "execute_result"
    },
    {
     "data": {
      "image/png": "[encoded data removed]",
      "text/plain": [
       "<Figure size 504x504 with 1 Axes>"
      ]
     },
     "metadata": {
      "needs_background": "light"
     },
     "output_type": "display_data"
    }
   ],
   "source": [
    "#range of output value\n",
    "plt.figure(figsize=(7,7))\n",
    "plt.plot(range(len(y_pred)),y_pred.reshape(-1,1))\n",
    "plt.ylabel('y_pred')"
   ]
  },
  {
   "cell_type": "code",
   "execution_count": 32,
   "metadata": {
    "tags": []
   },
   "outputs": [
    {
     "name": "stdout",
     "output_type": "stream",
     "text": [
      "prob =0.5 and f1 score =0.7968424770818837 : accuracy=0.7281880487849401 : precision=0.9338830129540395 : recall=0.662421265151496\n",
      "230133 262888\n",
      "prob =0.55 and f1 score =0.7968614277290071 : accuracy=0.7282002186519438 : precision=0.9338596189877397 : recall=0.662469155095364\n",
      "230101 262920\n",
      "prob =0.6 and f1 score =0.7968505560339078 : accuracy=0.7281819638514384 : precision=0.9338369505811706 : recall=0.662469155095364\n",
      "230092 262929\n",
      "prob =0.65 and f1 score =0.7969599776879096 : accuracy=0.7283036625214747 : precision=0.9338664832913869 : recall=0.6626203864970522\n",
      "230032 262989\n",
      "prob =0.75 and f1 score =0.7970712026347658 : accuracy=0.7284273895026784 : precision=0.93389650821345 : recall=0.662774138422102\n",
      "229971 263050\n",
      "prob =0.8 and f1 score =0.7970748490061308 : accuracy=0.728431446125013 : precision=0.9338974926371244 : recall=0.6627791794688249\n",
      "229969 263052\n",
      "prob =0.85 and f1 score =0.7971830217502001 : accuracy=0.728551116483882 : precision=0.9339245067299873 : recall=0.6629304108705132\n",
      "229908 263113\n",
      "prob =0.9 and f1 score =0.7972444017439191 : accuracy=0.728618050752402 : precision=0.9339366969662155 : recall=0.6630186291881647\n",
      "229871 263150\n",
      "prob =0.95 and f1 score =0.797528092270819 : accuracy=0.728930410672162 : precision=0.9340023660292835 : recall=0.6634193924026385\n",
      "229707 263314\n",
      "prob =1 and f1 score =0.8140602603806936 : accuracy=0.7460899231472898 : precision=0.9334271033251091 : recall=0.6907015372671982\n",
      "216519 276502\n",
      "prob =2 and f1 score =0.8917937790245504 : accuracy=0.80471825743731 : precision=0.80471825743731 : recall=1.0\n",
      "0 493021\n",
      "prob =2.5 and f1 score =0.8917937790245504 : accuracy=0.80471825743731 : precision=0.80471825743731 : recall=1.0\n",
      "0 493021\n",
      "prob =5 and f1 score =0.8917937790245504 : accuracy=0.80471825743731 : precision=0.80471825743731 : recall=1.0\n",
      "0 493021\n"
     ]
    }
   ],
   "source": [
    "#looking for the optimal probability threshold\n",
    "prob=[0.5,0.55,0.6,0.65,0.75,0.8,0.85,0.9,0.95,1,2,2.5,5]\n",
    "for p in prob:\n",
    "    pred_value =[1 if i<p   else 0 for i in y_pred]\n",
    "    f1=f1_score(y_test,pred_value)\n",
    "    acc=accuracy_score(y_test,pred_value)\n",
    "    precision=average_precision_score(y_test,pred_value)\n",
    "    recall= recall_score(y_test,pred_value)\n",
    "    print(f'prob ={p} and f1 score ={f1} : accuracy={acc} : precision={precision} : recall={recall}')\n",
    "    print(pred_value.count(0),pred_value.count(1))"
   ]
  },
  {
   "cell_type": "code",
   "execution_count": null,
   "metadata": {},
   "outputs": [],
   "source": []
  }
 ],
 "metadata": {
  "kernelspec": {
   "display_name": "Python 3 (ipykernel)",
   "language": "python",
   "name": "python3"
  },
  "language_info": {
   "codemirror_mode": {
    "name": "ipython",
    "version": 3
   },
   "file_extension": ".py",
   "mimetype": "text/x-python",
   "name": "python",
   "nbconvert_exporter": "python",
   "pygments_lexer": "ipython3",
   "version": "3.8.0"
  }
 },
 "nbformat": 4,
 "nbformat_minor": 4
}
